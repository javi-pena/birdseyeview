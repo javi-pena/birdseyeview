{
 "cells": [
  {
   "cell_type": "markdown",
   "id": "6beea8e3",
   "metadata": {},
   "source": [
    "# A bird's eye view of optimization\n"
   ]
  },
  {
   "cell_type": "markdown",
   "id": "1526c48d",
   "metadata": {},
   "source": [
    "## Math background\n",
    "\n",
    "### Matrices and vectors\n",
    "\n",
    "Some `python` subtleties:\n",
    "\n",
    "- Vectors are always displayed as row (not column) vectors.\n",
    "\n",
    "- Shape of matrices are tuples of the form `(m,n)`\n",
    "\n",
    "- Shape of a vector is a tuple of the form `(n,)`\n",
    "\n",
    "To perform matrix multiplication use `@` not `*`.  The latter performs componentwise multiplication of two matrices of the same size."
   ]
  },
  {
   "cell_type": "code",
   "execution_count": 3,
   "id": "fc3c2d53",
   "metadata": {},
   "outputs": [
    {
     "name": "stdout",
     "output_type": "stream",
     "text": [
      "Shape of AB: (4, 2)\n",
      "Shape of Ax: (4,)\n",
      "A = \n",
      " [[ 0.23592498 -0.75880095 -2.05614355]\n",
      " [-0.09393771 -0.76923675  0.1797372 ]\n",
      " [-1.96126856  0.31109044  1.06618923]\n",
      " [ 0.83614353  0.07367624  0.51065562]]\n",
      "B = \n",
      " [[-0.21917039 -0.86497384]\n",
      " [-1.07469013 -1.95203055]\n",
      " [-1.20293613 -2.08744937]]\n",
      "AB = \n",
      " [[ 3.23717748  5.56922924]\n",
      " [ 0.63106713  1.20763498]\n",
      " [-1.18703137 -1.13642807]\n",
      " [-0.87672313 -1.93302831]]\n",
      "Ax = \n",
      " [ 1.04414893  0.71166652 -2.97740782  1.09337715]\n"
     ]
    }
   ],
   "source": [
    "import numpy as np\n",
    "m = 4; n = 3; p = 2\n",
    "A = np.random.randn(m,n)\n",
    "B = np.random.randn(n,p)\n",
    "x = np.random.randn(n)\n",
    "AB = A@B\n",
    "Ax = A@x\n",
    "print(\"Shape of AB:\", AB.shape)\n",
    "print(\"Shape of Ax:\", Ax.shape)\n",
    "print(\"A = \\n\",A)\n",
    "print(\"B = \\n\",B)\n",
    "print(\"AB = \\n\",AB)\n",
    "print(\"Ax = \\n\",Ax)"
   ]
  },
  {
   "cell_type": "markdown",
   "id": "1c9798e5",
   "metadata": {},
   "source": [
    "## Products of vectors\n",
    "\n",
    "Suppose $a,b\\in \\mathbb{R}^n$.  \n",
    "\n",
    "To compute $a^T b \\in \\mathbb{R}$ use `np.dot()` or `np.inner()`.\n",
    "\n",
    "To compute $a b^T\\in \\mathbb{R}^{n\\times n}$ use `np.outer()`."
   ]
  },
  {
   "cell_type": "code",
   "execution_count": 5,
   "id": "425c4c60",
   "metadata": {},
   "outputs": [
    {
     "name": "stdout",
     "output_type": "stream",
     "text": [
      "a =  [-0.84980496 -0.88683146 -0.12696512]\n",
      "b =  [-1.35631166  0.47754195  1.71090133]\n",
      "a*b =  [ 1.15260038 -0.42349922 -0.21722479]\n",
      "np.dot(a,b) =  0.5118763715990529\n",
      "np.inner(a,b) =  0.5118763715990529\n",
      "np.outer(a,b) = \n",
      " [[ 1.15260038 -0.40581752 -1.45393244]\n",
      " [ 1.20281985 -0.42349922 -1.51728112]\n",
      " [ 0.17220427 -0.06063117 -0.21722479]]\n"
     ]
    }
   ],
   "source": [
    "a=np.random.randn(3); b=np.random.randn(3); \n",
    "print(\"a = \", a)\n",
    "print(\"b = \", b)\n",
    "print(\"a*b = \", a*b)\n",
    "print(\"np.dot(a,b) = \", np.dot(a,b))\n",
    "print(\"np.inner(a,b) = \", np.inner(a,b))\n",
    "print(\"np.outer(a,b) = \\n\", np.outer(a,b))"
   ]
  },
  {
   "cell_type": "markdown",
   "id": "1707df1f",
   "metadata": {},
   "source": [
    "## Unconstrained optimization\n",
    "\n",
    "We can minimize $\\frac{1}{2} \\|Ax-b\\|_2^2$  via Fermat's rule: $\\bar x = (A^TA)^{-1}A^Tb$ or via `cvxpy`. "
   ]
  },
  {
   "cell_type": "code",
   "execution_count": 7,
   "id": "93b90a9b",
   "metadata": {},
   "outputs": [
    {
     "name": "stdout",
     "output_type": "stream",
     "text": [
      "[ 0.02520898 -0.38545729 -0.24835763]\n"
     ]
    }
   ],
   "source": [
    "m = 5 ; n = 3\n",
    "A = np.random.randn(m,n) ; b = np.random.randn(m) \n",
    "ATA = A.T@A\n",
    "ATb = A.T@b\n",
    "x = np.linalg.solve(ATA,ATb)\n",
    "print(x)"
   ]
  },
  {
   "cell_type": "markdown",
   "id": "0cca73d5",
   "metadata": {},
   "source": [
    "Set up the problem in `cvxpy`.  For installation instructions and related information on `cvxpy` visit https://www.cvxpy.org\n",
    "\n",
    "To formulate the problem you need to define variables, objective, and constraints."
   ]
  },
  {
   "cell_type": "code",
   "execution_count": 9,
   "id": "cc846f0d",
   "metadata": {},
   "outputs": [],
   "source": [
    "# Run the following line if you are using Colab and want to use the fancy solver Gurobi\n",
    "# !pip install gurobipy\n",
    "import cvxpy as cp\n",
    "x = cp.Variable(n)\n",
    "objective = cp.Minimize(0.5*cp.sum_squares(A@x-b))\n",
    "prob = cp.Problem(objective)"
   ]
  },
  {
   "cell_type": "markdown",
   "id": "ab345e49",
   "metadata": {},
   "source": [
    "Next, solve the problem and display the solution.  \n",
    "\n",
    "We can use the fancy solver `gurobi` or `mosek` if available.  If not, we can use the default solver via `prob.solve()` \n",
    "\n",
    "To see all available solvers use `cvxpy.installed_solvers()`"
   ]
  },
  {
   "cell_type": "code",
   "execution_count": 11,
   "id": "cea63261",
   "metadata": {},
   "outputs": [
    {
     "name": "stdout",
     "output_type": "stream",
     "text": [
      "[ 0.02520898 -0.38545729 -0.24835763]\n"
     ]
    }
   ],
   "source": [
    "#prob.solve()\n",
    "prob.solve(solver = cp.MOSEK)\n",
    "print(x.value)"
   ]
  },
  {
   "cell_type": "code",
   "execution_count": 12,
   "id": "95cada6b",
   "metadata": {},
   "outputs": [
    {
     "data": {
      "text/plain": [
       "['CLARABEL',\n",
       " 'CVXOPT',\n",
       " 'ECOS',\n",
       " 'ECOS_BB',\n",
       " 'GLPK',\n",
       " 'GLPK_MI',\n",
       " 'GUROBI',\n",
       " 'MOSEK',\n",
       " 'OSQP',\n",
       " 'SCIPY',\n",
       " 'SCS']"
      ]
     },
     "execution_count": 12,
     "metadata": {},
     "output_type": "execute_result"
    }
   ],
   "source": [
    "cp.installed_solvers()"
   ]
  },
  {
   "cell_type": "markdown",
   "id": "f756eb62",
   "metadata": {},
   "source": [
    "As an additional sanity check, verify that the gradient is indeed zero."
   ]
  },
  {
   "cell_type": "code",
   "execution_count": 14,
   "id": "0e3e59aa",
   "metadata": {},
   "outputs": [
    {
     "name": "stdout",
     "output_type": "stream",
     "text": [
      "[-1.13647566e-10  6.81870618e-10  1.36325643e-09]\n"
     ]
    }
   ],
   "source": [
    "gx = A.T@(A@x.value - b)\n",
    "print(gx)"
   ]
  },
  {
   "cell_type": "markdown",
   "id": "1992ee5e",
   "metadata": {},
   "source": [
    "Repeat the above for $\\frac{1}{2} \\|Ax-b\\|_2^2 + \\lambda \\|x\\|_2^2 $."
   ]
  },
  {
   "cell_type": "code",
   "execution_count": 16,
   "id": "af503e5c",
   "metadata": {},
   "outputs": [
    {
     "name": "stdout",
     "output_type": "stream",
     "text": [
      "[ 0.02402437 -0.36432491 -0.24497237]\n"
     ]
    }
   ],
   "source": [
    "lam = 0.1\n",
    "x = np.linalg.solve(ATA+2*lam*np.identity(n),ATb)\n",
    "print(x)"
   ]
  },
  {
   "cell_type": "code",
   "execution_count": 17,
   "id": "b0e833bf",
   "metadata": {},
   "outputs": [
    {
     "name": "stdout",
     "output_type": "stream",
     "text": [
      "[ 0.02402385 -0.36431502 -0.24497061]\n"
     ]
    }
   ],
   "source": [
    "x = cp.Variable(n)\n",
    "objective = cp.Minimize(0.5*cp.sum_squares(A@x-b)+lam*cp.sum_squares(x))\n",
    "prob = cp.Problem(objective)\n",
    "prob.solve(solver=cp.MOSEK)\n",
    "print(x.value)"
   ]
  },
  {
   "cell_type": "markdown",
   "id": "256a991b",
   "metadata": {},
   "source": [
    "## Linear programming\n",
    "\n",
    "### Porfolio construction example.\n",
    "\n",
    "Linear programming model for fund allocation.  We want to solve\n",
    "$$ \n",
    "\\begin{array}{rl} \\max_x & r^Tx \\\\\n",
    "& Ax = b \\\\\n",
    "& Dx \\ge d\\\\\n",
    "& x\\ge 0\n",
    "\\end{array}\n",
    "$$\n",
    "for $r,A,b,D,d$ as below."
   ]
  },
  {
   "cell_type": "markdown",
   "id": "d7be850b",
   "metadata": {},
   "source": [
    "Define the problem data."
   ]
  },
  {
   "cell_type": "code",
   "execution_count": 20,
   "id": "d894d07c",
   "metadata": {},
   "outputs": [],
   "source": [
    "n = 4\n",
    "r = np.array([0.10, 0.15, 0.16, 0.08]) \n",
    "A = np.array([1, 1, 1, 1,]) \n",
    "b = 80 \n",
    "D = np.array([[0.5, 0.3, 0.25, 0.6],\n",
    "              [0.3, 0.1, 0.4,  0.2],\n",
    "              [0.2, 0.6, 0.35, 0.2]]) \n",
    "d = np.array([28,24,12]) "
   ]
  },
  {
   "cell_type": "markdown",
   "id": "d20d88ee",
   "metadata": {},
   "source": [
    "Set up the problem in `cvxpy`.  \n",
    "\n",
    "To formulate the problem you need to define variables, objective, and constraints."
   ]
  },
  {
   "cell_type": "code",
   "execution_count": 22,
   "id": "6fe12b57",
   "metadata": {},
   "outputs": [],
   "source": [
    "import cvxpy as cp\n",
    "x = cp.Variable(n)\n",
    "objective = cp.Maximize(r.T@x)\n",
    "constraints = [A@x == b,D@x>=d, x>=0]\n",
    "prob = cp.Problem(objective, constraints)"
   ]
  },
  {
   "cell_type": "markdown",
   "id": "cbbf2177",
   "metadata": {},
   "source": [
    "Next, solve the problem.  \n",
    "\n",
    "We can use the fancy solver `gurobi` or `mosek` if available.  \n",
    "If not, we can use the default solver via `prob.solve()` "
   ]
  },
  {
   "cell_type": "code",
   "execution_count": 24,
   "id": "17a7277d",
   "metadata": {},
   "outputs": [
    {
     "name": "stdout",
     "output_type": "stream",
     "text": [
      "Restricted license - for non-production use only - expires 2025-11-24\n"
     ]
    },
    {
     "data": {
      "text/plain": [
       "10.989473684210527"
      ]
     },
     "execution_count": 24,
     "metadata": {},
     "output_type": "execute_result"
    }
   ],
   "source": [
    "#prob.solve()\n",
    "prob.solve(solver = cp.GUROBI)"
   ]
  },
  {
   "cell_type": "markdown",
   "id": "df1399ce",
   "metadata": {},
   "source": [
    "Display optimal value and optimal solution.  "
   ]
  },
  {
   "cell_type": "code",
   "execution_count": 26,
   "id": "627742b7",
   "metadata": {},
   "outputs": [
    {
     "name": "stdout",
     "output_type": "stream",
     "text": [
      "\n",
      "The optimal value is 10.989473684210527\n",
      "An optimal solution is\n",
      "[ 0.         12.63157895 46.31578947 21.05263158]\n"
     ]
    }
   ],
   "source": [
    "print(\"\\nThe optimal value is\", prob.value)\n",
    "print(\"An optimal solution is\")\n",
    "print(x.value)"
   ]
  },
  {
   "cell_type": "markdown",
   "id": "f87deace",
   "metadata": {},
   "source": [
    "As a sanity check, verify that the constraints hold."
   ]
  },
  {
   "cell_type": "code",
   "execution_count": 28,
   "id": "c117b7f2",
   "metadata": {},
   "outputs": [
    {
     "name": "stdout",
     "output_type": "stream",
     "text": [
      "Ax =  80.0\n",
      "Dx =  [28. 24. 28.]\n"
     ]
    }
   ],
   "source": [
    "print(\"Ax = \",A@x.value)\n",
    "print(\"Dx = \",D@x.value)"
   ]
  },
  {
   "cell_type": "markdown",
   "id": "71b0b0b1",
   "metadata": {},
   "source": [
    "## $\\ell_1$ minimization\n",
    "\n",
    "The $\\ell_1$ minimization problem to find a sparse solution to $Ax=b$.\n",
    "\n",
    "First generate $A,b$ such that $Ax=b$ has a sparse solution."
   ]
  },
  {
   "cell_type": "code",
   "execution_count": 30,
   "id": "119c4cf8",
   "metadata": {},
   "outputs": [],
   "source": [
    "n = 40; k = 5; m = 20\n",
    "y = np.random.rand(n)\n",
    "ysort = np.sort(y)\n",
    "ysort[-k]\n",
    "y = y*(y>=ysort[-k])\n",
    "A = np.random.randn(m,n)\n",
    "b = A@y"
   ]
  },
  {
   "cell_type": "code",
   "execution_count": 31,
   "id": "f59d43a1",
   "metadata": {},
   "outputs": [
    {
     "data": {
      "text/plain": [
       "4.4863145359681535"
      ]
     },
     "execution_count": 31,
     "metadata": {},
     "output_type": "execute_result"
    }
   ],
   "source": [
    "x = cp.Variable(n)\n",
    "u = cp.Variable(n)\n",
    "objective = cp.Minimize(cp.sum(u))\n",
    "constraints = [A@x==b, x<=u, -x<=u]\n",
    "prob = cp.Problem(objective, constraints)\n",
    "prob.solve(solver=cp.MOSEK)"
   ]
  },
  {
   "cell_type": "markdown",
   "id": "b1c6f089",
   "metadata": {},
   "source": [
    "In many cases we recover the original sparse $y$ solution."
   ]
  },
  {
   "cell_type": "code",
   "execution_count": 33,
   "id": "c22d623c",
   "metadata": {},
   "outputs": [
    {
     "name": "stdout",
     "output_type": "stream",
     "text": [
      "norm of the difference =  1.4175878554941893e-14\n"
     ]
    },
    {
     "data": {
      "image/png": "[encoded data removed]",
      "text/plain": [
       "<Figure size 640x480 with 1 Axes>"
      ]
     },
     "metadata": {},
     "output_type": "display_data"
    }
   ],
   "source": [
    "import matplotlib.pyplot as plt\n",
    "import matplotlib.pyplot as plt\n",
    "\n",
    "print(\"norm of the difference = \", np.linalg.norm(y-x.value))\n",
    "plt.plot(y,'s',label='original') ; plt.plot(x.value,'o',label='recovered')\n",
    "plt.legend()\n",
    "plt.show()"
   ]
  },
  {
   "cell_type": "markdown",
   "id": "126b948c",
   "metadata": {},
   "source": [
    "`cvxpy` also allows us to formulate the $\\ell_1$ minimization directly via the `cp.norm` function."
   ]
  },
  {
   "cell_type": "code",
   "execution_count": 35,
   "id": "5e51f1c5",
   "metadata": {},
   "outputs": [
    {
     "name": "stdout",
     "output_type": "stream",
     "text": [
      "norm of the difference =  1.4175878554941893e-14\n"
     ]
    },
    {
     "data": {
      "image/png": "[encoded data removed]",
      "text/plain": [
       "<Figure size 640x480 with 1 Axes>"
      ]
     },
     "metadata": {},
     "output_type": "display_data"
    }
   ],
   "source": [
    "x = cp.Variable(n)\n",
    "objective = cp.Minimize(cp.norm(x,1))\n",
    "constraints = [A@x==b]\n",
    "prob = cp.Problem(objective, constraints)\n",
    "prob.solve(solver=cp.MOSEK)\n",
    "print(\"norm of the difference = \", np.linalg.norm(y-x.value))\n",
    "plt.plot(y,'s',label='original') ; plt.plot(x.value,'o',label='recovered')\n",
    "plt.legend()\n",
    "plt.show()"
   ]
  },
  {
   "cell_type": "markdown",
   "id": "eac68c93",
   "metadata": {},
   "source": [
    "## Lasso regression\n",
    "\n",
    "In general, the lasso model $\\min_x \\left\\{ \\frac{1}{2}\\|Ax-b\\|_2^2 + \\lambda \\cdot \\|x\\|_1\\right\\}$ can only be solved numerically.\n",
    "\n",
    "First generate $A\\in \\mathbb{R}^{m\\times n}, b\\in\\mathbb{R}^m$.  To make it more interesting, pick $n > m$.\n"
   ]
  },
  {
   "cell_type": "code",
   "execution_count": 37,
   "id": "808a1570",
   "metadata": {},
   "outputs": [],
   "source": [
    "m=50; n=100\n",
    "A = np.random.randn(m,n)\n",
    "b = np.random.randn(m)"
   ]
  },
  {
   "cell_type": "markdown",
   "id": "2ae48e9b",
   "metadata": {},
   "source": [
    "Now solve the lasso model."
   ]
  },
  {
   "cell_type": "code",
   "execution_count": 39,
   "id": "92505575",
   "metadata": {},
   "outputs": [
    {
     "data": {
      "image/png": "[encoded data removed]",
      "text/plain": [
       "<Figure size 640x480 with 1 Axes>"
      ]
     },
     "metadata": {},
     "output_type": "display_data"
    }
   ],
   "source": [
    "lam = 10\n",
    "x = cp.Variable(n)\n",
    "u = cp.Variable(n)\n",
    "objective = cp.Minimize(0.5*cp.sum_squares(A@x-b)+lam*cp.sum(u))\n",
    "constraints = [x<=u, -x<=u]\n",
    "prob = cp.Problem(objective,constraints)\n",
    "prob.solve(solver=cp.MOSEK)\n",
    "plt.plot(x.value,'o')\n",
    "plt.show()"
   ]
  },
  {
   "cell_type": "markdown",
   "id": "b01f334e",
   "metadata": {},
   "source": [
    "Again, `cvxpy` allows us to formulate the $\\ell_1$ minimization directly."
   ]
  },
  {
   "cell_type": "code",
   "execution_count": 41,
   "id": "59b7b976",
   "metadata": {},
   "outputs": [
    {
     "data": {
      "image/png": "[encoded data removed]",
      "text/plain": [
       "<Figure size 640x480 with 1 Axes>"
      ]
     },
     "metadata": {},
     "output_type": "display_data"
    }
   ],
   "source": [
    "x = cp.Variable(n)\n",
    "objective = cp.Minimize(0.5*cp.sum_squares(A@x-b)+lam*cp.norm(x,1))\n",
    "prob = cp.Problem(objective)\n",
    "prob.solve(solver=cp.MOSEK)\n",
    "plt.plot(x.value,'o')\n",
    "plt.show()"
   ]
  },
  {
   "cell_type": "markdown",
   "id": "af2aa586",
   "metadata": {},
   "source": [
    "## Mean-variance models\n",
    "\n",
    "Suppose asset returns follow a one-factor model: $r_i = \\beta_i \\cdot f + u_i$ for $i=1,\\dots,n$.\n"
   ]
  },
  {
   "cell_type": "code",
   "execution_count": 43,
   "id": "a9b9ca9d",
   "metadata": {},
   "outputs": [],
   "source": [
    "n = 5\n",
    "beta = 0.5 + np.arange(n)/(n-1)\n",
    "V = np.outer(beta,beta)+np.identity(n)\n",
    "mu = 0.1*beta"
   ]
  },
  {
   "cell_type": "markdown",
   "id": "0ba53ff6",
   "metadata": {},
   "source": [
    "First find fully-invested, long-only, portfolio of minimum variance, that is,\n",
    "$$\n",
    "\\begin{array}{rl}\n",
    "min_x & x^TVx \\\\\n",
    "& 1^Tx = 1\\\\\n",
    "& x\\ge 0.\n",
    "\\end{array}\n",
    "$$\n",
    "\n",
    "As you may intuit, the portfolio is tilted toward low beta assets."
   ]
  },
  {
   "cell_type": "code",
   "execution_count": 45,
   "id": "1b63a81a",
   "metadata": {},
   "outputs": [
    {
     "data": {
      "image/png": "[encoded data removed]",
      "text/plain": [
       "<Figure size 640x480 with 1 Axes>"
      ]
     },
     "metadata": {},
     "output_type": "display_data"
    }
   ],
   "source": [
    "x = cp.Variable(n)\n",
    "objective = cp.Minimize(cp.quad_form(x,V))\n",
    "constraints = [cp.sum(x)==1, x>=0]\n",
    "prob = cp.Problem(objective,constraints)\n",
    "prob.solve(solver=cp.MOSEK)\n",
    "fig, ax = plt.subplots()\n",
    "ax.plot(beta,x.value,'o')\n",
    "ax.set_xlabel(\"asset betas\")\n",
    "ax.set_ylabel(\"asset holdings\")\n",
    "plt.show()"
   ]
  },
  {
   "cell_type": "markdown",
   "id": "25ba0d96",
   "metadata": {},
   "source": [
    "Next, find fully-invested, long-only, efficient portfolio for some risk aversion $\\gamma>0:$\n",
    "\n",
    "$$\n",
    "\\begin{array}{rl}\n",
    "min_x & \\frac{\\gamma}{2} x^TVx - \\mu^T x\\\\\n",
    "& 1^Tx = 1\\\\\n",
    "& x\\ge 0.\n",
    "\\end{array}\n",
    "$$\n",
    "\n",
    "For small $\\gamma$ the portfolio is tilted toward large beta assets. "
   ]
  },
  {
   "cell_type": "code",
   "execution_count": 47,
   "id": "8cd98ffd",
   "metadata": {},
   "outputs": [
    {
     "data": {
      "image/png": "[encoded data removed]",
      "text/plain": [
       "<Figure size 640x480 with 1 Axes>"
      ]
     },
     "metadata": {},
     "output_type": "display_data"
    }
   ],
   "source": [
    "x = cp.Variable(n)\n",
    "gamma = 0.05\n",
    "objective = cp.Minimize(0.5*gamma*cp.quad_form(x,V)-mu.T@x)\n",
    "constraints = [cp.sum(x)==1, x>=0]\n",
    "prob = cp.Problem(objective,constraints)\n",
    "prob.solve(solver=cp.MOSEK)\n",
    "fig, ax = plt.subplots()\n",
    "ax.plot(beta,x.value,'o')\n",
    "ax.set_xlabel(\"asset betas\")\n",
    "ax.set_ylabel(\"asset holdings\")\n",
    "plt.show()"
   ]
  },
  {
   "cell_type": "markdown",
   "id": "8a1c6082",
   "metadata": {},
   "source": [
    "Now generate and visualize a bunch of portfolios on the efficient frontier."
   ]
  },
  {
   "cell_type": "code",
   "execution_count": 49,
   "id": "cd8b6d52",
   "metadata": {},
   "outputs": [],
   "source": [
    "N = 20\n",
    "gammamin = sum(np.linalg.solve(V,mu))/5\n",
    "gammamax = sum(np.linalg.solve(V,mu))*100\n",
    "gamma = 1/np.linspace(1/gammamax,1/gammamin,N)\n",
    "sigmafrontier = np.zeros(N)\n",
    "mufrontier = np.zeros(N)\n",
    "\n",
    "xfrontier = np.empty((n,N))\n",
    "for k in range(N):\n",
    "    x = cp.Variable(n)\n",
    "    objective = cp.Minimize(0.5*gamma[k]*cp.quad_form(x,V)-mu.T@x)\n",
    "    constraints = [cp.sum(x)==1, x>=0]\n",
    "    prob = cp.Problem(objective,constraints)\n",
    "    prob.solve(solver=cp.MOSEK)\n",
    "    xfrontier[:,k] = x.value\n",
    "    mufrontier[k] = mu.T@x.value\n",
    "    sigmafrontier[k] = (x.value.T@V@x.value)**0.5"
   ]
  },
  {
   "cell_type": "markdown",
   "id": "5a7f5894",
   "metadata": {},
   "source": [
    "Visualize the efficient frontier: the holdings of the efficient portfolios."
   ]
  },
  {
   "cell_type": "code",
   "execution_count": 51,
   "id": "9c364f20",
   "metadata": {},
   "outputs": [
    {
     "data": {
      "image/png": "[encoded data removed]",
      "text/plain": [
       "<Figure size 640x480 with 1 Axes>"
      ]
     },
     "metadata": {},
     "output_type": "display_data"
    }
   ],
   "source": [
    "names = list(map(lambda x: 'asset '+str(x),np.arange(n)+1))\n",
    "fig, ax = plt.subplots()\n",
    "ax.stackplot(mufrontier,xfrontier,labels=names)\n",
    "ax.set_xlabel(\"Expected return\")\n",
    "ax.set_ylabel(\"Holdings\")\n",
    "plt.legend()\n",
    "plt.show()"
   ]
  },
  {
   "cell_type": "markdown",
   "id": "416c17e8",
   "metadata": {},
   "source": [
    "Visualize also the $\\mu$ versus $\\sigma$ plot for portfolios on the efficient frontier."
   ]
  },
  {
   "cell_type": "code",
   "execution_count": 53,
   "id": "f7894224",
   "metadata": {},
   "outputs": [
    {
     "data": {
      "image/png": "[encoded data removed]",
      "text/plain": [
       "<Figure size 640x480 with 1 Axes>"
      ]
     },
     "metadata": {},
     "output_type": "display_data"
    }
   ],
   "source": [
    "fig,ax = plt.subplots()\n",
    "ax.plot(sigmafrontier,mufrontier)\n",
    "ax.set_xlabel(\"Standard deviation\")\n",
    "ax.set_ylabel(\"Expected return\")\n",
    "plt.show()"
   ]
  },
  {
   "cell_type": "markdown",
   "id": "9d23e8ae",
   "metadata": {},
   "source": [
    "## Integer programming"
   ]
  },
  {
   "cell_type": "code",
   "execution_count": 55,
   "id": "1210b9e3",
   "metadata": {},
   "outputs": [],
   "source": [
    "w = np.array([7,10,6,3]) \n",
    "v = np.array([9,11,7,4])\n",
    "W = 19"
   ]
  },
  {
   "cell_type": "code",
   "execution_count": 56,
   "id": "6df3800b",
   "metadata": {},
   "outputs": [
    {
     "name": "stdout",
     "output_type": "stream",
     "text": [
      "[0. 1. 1. 1.]\n"
     ]
    }
   ],
   "source": [
    "n = len(v)\n",
    "x = cp.Variable(n,boolean=True)\n",
    "prob = cp.Problem(cp.Maximize(v.T@x),\n",
    "                 [w.T@x <= W])\n",
    "prob.solve(solver=cp.MOSEK)\n",
    "print(x.value)"
   ]
  },
  {
   "cell_type": "code",
   "execution_count": 57,
   "id": "83c2a32f",
   "metadata": {},
   "outputs": [
    {
     "name": "stdout",
     "output_type": "stream",
     "text": [
      "Number of selected items =  64\n"
     ]
    }
   ],
   "source": [
    "n = 100\n",
    "v = np.round(100*np.random.rand(n))\n",
    "w = np.round(100*np.random.rand(n))\n",
    "W = np.sum(w)//2\n",
    "n = len(v)\n",
    "x = cp.Variable(n,boolean=True)\n",
    "prob = cp.Problem(cp.Maximize(v.T@x),\n",
    "                 [w.T@x <= W])\n",
    "prob.solve(solver=cp.MOSEK)\n",
    "print('Number of selected items = ', np.sum(x.value>0))"
   ]
  },
  {
   "cell_type": "markdown",
   "id": "746444ae",
   "metadata": {},
   "source": [
    "Here is a mixed integer programming formulation for benchmark tracking tested on randomly generated instances.  Observe that the problem can be easily solved for  $n\\le 30$ but it becomes much more challenging for larger values of $n$."
   ]
  },
  {
   "cell_type": "code",
   "execution_count": 59,
   "id": "8ed6b938",
   "metadata": {},
   "outputs": [
    {
     "name": "stdout",
     "output_type": "stream",
     "text": [
      "Number of nonzero holdings =  10\n"
     ]
    }
   ],
   "source": [
    "n = 20\n",
    "k = n//2\n",
    "L = np.random.randn(n,n)\n",
    "V = L@L.T\n",
    "x = cp.Variable(n)\n",
    "xB = np.ones(n)/n\n",
    "y = cp.Variable(n,boolean=True)\n",
    "obj = cp.Minimize(cp.quad_form(x-xB,V))\n",
    "constraints = [cp.sum(x)==1,x>=0,x<=y,cp.sum(y)<=10]\n",
    "prob = cp.Problem(obj,constraints)\n",
    "prob.solve(solver=cp.MOSEK)\n",
    "print('Number of nonzero holdings = ', np.sum(x.value>0))"
   ]
  },
  {
   "cell_type": "code",
   "execution_count": null,
   "id": "f1c5c38e",
   "metadata": {},
   "outputs": [],
   "source": []
  }
 ],
 "metadata": {
  "kernelspec": {
   "display_name": "Python 3 (ipykernel)",
   "language": "python",
   "name": "python3"
  },
  "language_info": {
   "codemirror_mode": {
    "name": "ipython",
    "version": 3
   },
   "file_extension": ".py",
   "mimetype": "text/x-python",
   "name": "python",
   "nbconvert_exporter": "python",
   "pygments_lexer": "ipython3",
   "version": "3.12.4"
  }
 },
 "nbformat": 4,
 "nbformat_minor": 5
}
